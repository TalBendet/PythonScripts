{
 "cells": [
  {
   "cell_type": "code",
   "execution_count": 2,
   "metadata": {},
   "outputs": [],
   "source": [
    "import yfinance as yf\n",
    "import pandas as pd\n",
    "import ssl"
   ]
  },
  {
   "cell_type": "code",
   "execution_count": 3,
   "metadata": {},
   "outputs": [],
   "source": [
    "ssl._create_default_https_context = ssl._create_unverified_context"
   ]
  },
  {
   "cell_type": "code",
   "execution_count": 8,
   "metadata": {},
   "outputs": [],
   "source": [
    "# Get list of S&P500 stocks\n",
    "wiki = pd.read_html('https://en.wikipedia.org/wiki/List_of_S%26P_500_companies')\n",
    "first_table = wiki[0]\n",
    "second_table = wiki[1]\n",
    "\n",
    "df = first_table\n",
    "sp500 = df[\"Symbol\"]"
   ]
  },
  {
   "cell_type": "code",
   "execution_count": null,
   "metadata": {},
   "outputs": [],
   "source": [
    "print(sp500)"
   ]
  },
  {
   "cell_type": "code",
   "execution_count": 10,
   "metadata": {},
   "outputs": [],
   "source": [
    "# Get list of S&P400 stocks\n",
    "wiki = pd.read_html('https://en.wikipedia.org/wiki/List_of_S%26P_400_companies')\n",
    "first_table = wiki[0]\n",
    "second_table = wiki[1]\n",
    "\n",
    "df = first_table\n",
    "sp400 = df[\"Ticker symbol\"]"
   ]
  },
  {
   "cell_type": "code",
   "execution_count": 11,
   "metadata": {},
   "outputs": [
    {
     "name": "stdout",
     "output_type": "stream",
     "text": [
      "0       ACC\n",
      "1      ACHC\n",
      "2      ACIW\n",
      "3       ACM\n",
      "4       ADS\n",
      "       ... \n",
      "395     XPO\n",
      "396     XRX\n",
      "397       Y\n",
      "398    YELP\n",
      "399    YETI\n",
      "Name: Ticker symbol, Length: 400, dtype: object\n"
     ]
    }
   ],
   "source": [
    "print(sp400)"
   ]
  },
  {
   "cell_type": "code",
   "execution_count": 15,
   "metadata": {},
   "outputs": [],
   "source": [
    "# Get list of S&P600 stocks\n",
    "wiki = pd.read_html('https://en.wikipedia.org/wiki/List_of_S%26P_600_companies')\n",
    "first_table = wiki[0]\n",
    "second_table = wiki[1]\n",
    "\n",
    "df = second_table\n",
    "sp600 = df[\"Ticker symbol\"]"
   ]
  },
  {
   "cell_type": "code",
   "execution_count": 16,
   "metadata": {},
   "outputs": [
    {
     "name": "stdout",
     "output_type": "stream",
     "text": [
      "0       AAN\n",
      "1      AAOI\n",
      "2      AAON\n",
      "3       AAT\n",
      "4      AAWW\n",
      "       ... \n",
      "596    XNCR\n",
      "597    XPER\n",
      "598    ZEUS\n",
      "599    ZUMZ\n",
      "600    ZYXI\n",
      "Name: Ticker symbol, Length: 601, dtype: object\n"
     ]
    }
   ],
   "source": [
    "print(sp600)"
   ]
  },
  {
   "cell_type": "code",
   "execution_count": 57,
   "metadata": {},
   "outputs": [],
   "source": [
    "stock_ticker_list = pd.concat([sp500, sp400, sp600])"
   ]
  },
  {
   "cell_type": "code",
   "execution_count": 58,
   "metadata": {},
   "outputs": [
    {
     "name": "stdout",
     "output_type": "stream",
     "text": [
      "- BRK.B: No data found, symbol may be delisted\n",
      "- BF.B: No data found for this date range, symbol may be delisted\n",
      "CLX\n",
      "INCY\n",
      "MKTX\n",
      "EBS\n",
      "- JW.A: No data found, symbol may be delisted\n",
      "SAM\n",
      "APEI\n",
      "BBBY\n",
      "GKOS\n",
      "LL\n",
      "- MOG.A: No data found, symbol may be delisted\n",
      "PETS\n",
      "PRLB\n",
      "SPPI\n",
      "TCMD\n",
      "WW\n"
     ]
    }
   ],
   "source": [
    "for ticker in stock_ticker_list:\n",
    "    data = yf.Ticker(ticker)\n",
    "    \n",
    "    price = data.history(period = \"1y\")\n",
    "    \n",
    "    if(price.shape[0] < 1):\n",
    "        continue\n",
    "\n",
    "    low = price[\"Close\"].min()\n",
    "    high = price[\"Close\"].max()\n",
    "    current = price[\"Close\"][-1]\n",
    "\n",
    "    #check if current price is near one year low\n",
    "    threshold = 0.05\n",
    "    diff = high - low\n",
    "    added = threshold * diff\n",
    "    target = low + added\n",
    "\n",
    "    if current <= target:\n",
    "        lowdate = price.idxmin(axis = 0)[\"Close\"]\n",
    "        highdate = price.idxmax(axis = 0)[\"Close\"]\n",
    "        currentdate = price.index[-1]\n",
    "        print(ticker)\n",
    "    \n",
    "    continue\n"
   ]
  }
 ],
 "metadata": {
  "kernelspec": {
   "display_name": "Python 3",
   "language": "python",
   "name": "python3"
  },
  "language_info": {
   "codemirror_mode": {
    "name": "ipython",
    "version": 3
   },
   "file_extension": ".py",
   "mimetype": "text/x-python",
   "name": "python",
   "nbconvert_exporter": "python",
   "pygments_lexer": "ipython3",
   "version": "3.8.5"
  }
 },
 "nbformat": 4,
 "nbformat_minor": 4
}
